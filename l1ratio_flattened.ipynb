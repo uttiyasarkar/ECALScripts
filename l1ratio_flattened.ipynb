{
 "cells": [
  {
   "cell_type": "code",
   "execution_count": 22,
   "metadata": {},
   "outputs": [
    {
     "data": {
      "image/png": "[encoded data removed]",
      "text/plain": [
       "<Figure size 576x288 with 1 Axes>"
      ]
     },
     "metadata": {
      "needs_background": "light"
     },
     "output_type": "display_data"
    }
   ],
   "source": [
    "import pandas as pd\n",
    "import matplotlib.pyplot as plt\n",
    "import os\n",
    "\n",
    "# assign path\n",
    "path1, dirs1, files1 = next(os.walk(\"./onceperfill/\"))\n",
    "file_countopf = len(files1)\n",
    "\n",
    "# assign path\n",
    "path2, dirs2, files2 = next(os.walk(\"./twiceperweek/\"))\n",
    "file_counttpw = len(files2)\n",
    "\n",
    "# create empty lists\n",
    "dfs_listopf = []\n",
    "dfs_listtpw = []\n",
    "filenameopf = []\n",
    "filenametpw = []\n",
    "# append datasets to the list\n",
    "for i in range(file_countopf):\n",
    "    temp_df = pd.read_csv(\"./onceperfill/\"+files1[i])\n",
    "    names = files1[i]\n",
    "    filenameopf.append(names)\n",
    "    dfs_listopf.append(temp_df)  \n",
    "\n",
    "for i in range(file_counttpw):\n",
    "    temp_df = pd.read_csv(\"./twiceperweek/\"+files2[i])\n",
    "    names = files2[i]\n",
    "    filenametpw.append(names)\n",
    "    dfs_listtpw.append(temp_df)\n",
    "\n",
    "# display datsets\n",
    "#for dataset in dfs_listtpw:\n",
    "#    display(dataset)\n",
    "filenameopf = [x.replace('_246', '') for x in filenameopf]\n",
    "filenameopf = [x.replace('.csv', '') for x in filenameopf]\n",
    "filenametpw = [x.replace('_54', '') for x in filenametpw]\n",
    "filenametpw = [x.replace('.csv', '') for x in filenametpw]\n",
    "\n",
    "#--------sometimes important to uncomment and check if \n",
    "#there is any ghost fillnumber other than the expected---------------\n",
    "#filenametpw \n",
    "#filenameopf\n",
    "\n",
    "# set index to L1SeedName and print the rate0\n",
    "rateopf = []\n",
    "ratetpw = []\n",
    "rateopf2 = []\n",
    "ratetpw2 = []\n",
    "for df in dfs_listopf:\n",
    "    df.set_index('L1SeedName', inplace=True)\n",
    "    df = df.loc[['L1_SingleIsoEG28er2p5','L1_SingleMu22']]\n",
    "    df = df.reset_index()\n",
    "    l = df.iloc[0]['rate0']\n",
    "    l2 = df.iloc[1]['rate0']\n",
    "    l = l/l2\n",
    "    rateopf.append(l)\n",
    "    \n",
    "for df in dfs_listtpw:\n",
    "    df.set_index('L1SeedName', inplace=True)\n",
    "    df = df.loc[['L1_SingleIsoEG28er2p5','L1_SingleMu22']]\n",
    "    df = df.reset_index()\n",
    "    l = df.iloc[0]['rate0']\n",
    "    l2 = df.iloc[1]['rate0']\n",
    "    l = l/l2\n",
    "    ratetpw.append(l)\n",
    "\n",
    "\n",
    "#creating dataframe from the seed rates\n",
    "df_opf = pd.DataFrame({'Fill_Number':filenameopf, 'rate':rateopf})\n",
    "df_opf = df_opf.sort_values(by=['Fill_Number'])\n",
    "df_tpw = pd.DataFrame({'Fill_Number':filenametpw, 'rate':ratetpw})\n",
    "df_tpw = df_tpw.sort_values(by=['Fill_Number'])\n",
    "\n",
    "#finally a sigh of relief after all the juggling\n",
    "fig, ax = plt.subplots(figsize=(8,4))\n",
    "ax.scatter(df_tpw[\"Fill_Number\"],df_tpw[\"rate\"],color=\"blue\",marker=\"+\", alpha=0.5)\n",
    "ax.scatter(df_opf[\"Fill_Number\"],df_opf[\"rate\"],color=\"red\",marker=\"o\", alpha=0.5)\n",
    "ax.set_xlabel('Fill Number', fontsize=15)\n",
    "ax.set_ylabel('Rate (Hz)', fontsize=15)\n",
    "ax.set_title('L1_SingleIsoEG28er2p5 Normalized by L1_SingleMu22')\n",
    "ax.legend(['54 iov','246 iov'])\n",
    "ax.grid(True)\n",
    "fig.tight_layout()\n",
    "\n",
    "plt.show()"
   ]
  },
  {
   "cell_type": "code",
   "execution_count": null,
   "metadata": {},
   "outputs": [],
   "source": [
    "['L1_SingleMu22','L1_SingleEG36er2p5','L1_SingleEG60','L1_SingleIsoEG28_FWD2p5','L1_SingleIsoEG28er2p5','L1_SingleIsoEG28er2p1','L1_SingleIsoEG28er1p5','L1_DoubleEG_25_12_er2p5','L1_DoubleIsoTau32er2p1','L1_SingleJet180','L1_SingleJet180er2p5','L1_ETT2000','L1_ETMHF100']"
   ]
  },
  {
   "cell_type": "code",
   "execution_count": null,
   "metadata": {},
   "outputs": [],
   "source": []
  }
 ],
 "metadata": {
  "kernelspec": {
   "display_name": "Python 3",
   "language": "python",
   "name": "python3"
  },
  "language_info": {
   "codemirror_mode": {
    "name": "ipython",
    "version": 3
   },
   "file_extension": ".py",
   "mimetype": "text/x-python",
   "name": "python",
   "nbconvert_exporter": "python",
   "pygments_lexer": "ipython3",
   "version": "3.8.5"
  }
 },
 "nbformat": 4,
 "nbformat_minor": 4
}
