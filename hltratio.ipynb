{
 "cells": [
  {
   "cell_type": "code",
   "execution_count": 6,
   "metadata": {
    "scrolled": true
   },
   "outputs": [
    {
     "data": {
      "text/html": [
       "<div>\n",
       "<style scoped>\n",
       "    .dataframe tbody tr th:only-of-type {\n",
       "        vertical-align: middle;\n",
       "    }\n",
       "\n",
       "    .dataframe tbody tr th {\n",
       "        vertical-align: top;\n",
       "    }\n",
       "\n",
       "    .dataframe thead th {\n",
       "        text-align: right;\n",
       "    }\n",
       "</style>\n",
       "<table border=\"1\" class=\"dataframe\">\n",
       "  <thead>\n",
       "    <tr style=\"text-align: right;\">\n",
       "      <th></th>\n",
       "      <th>index</th>\n",
       "      <th>Total Rate (Hz)</th>\n",
       "    </tr>\n",
       "  </thead>\n",
       "  <tbody>\n",
       "    <tr>\n",
       "      <th>0</th>\n",
       "      <td>HLT_Ele32_WPTight_Gsf_v15</td>\n",
       "      <td>3.506159</td>\n",
       "    </tr>\n",
       "    <tr>\n",
       "      <th>1</th>\n",
       "      <td>HLT_Ele35_WPTight_Gsf_v9</td>\n",
       "      <td>3.721402</td>\n",
       "    </tr>\n",
       "    <tr>\n",
       "      <th>2</th>\n",
       "      <td>HLT_Ele35_WPTight_Gsf_L1EGMT_v5</td>\n",
       "      <td>3.847972</td>\n",
       "    </tr>\n",
       "    <tr>\n",
       "      <th>3</th>\n",
       "      <td>HLT_Ele38_WPTight_Gsf_v9</td>\n",
       "      <td>4.092567</td>\n",
       "    </tr>\n",
       "    <tr>\n",
       "      <th>4</th>\n",
       "      <td>HLT_Ele30_eta2p1_WPTight_Gsf_CentralPFJet35_El...</td>\n",
       "      <td>2.853144</td>\n",
       "    </tr>\n",
       "    <tr>\n",
       "      <th>5</th>\n",
       "      <td>HLT_Photon33_v5</td>\n",
       "      <td>NaN</td>\n",
       "    </tr>\n",
       "    <tr>\n",
       "      <th>6</th>\n",
       "      <td>HLT_PFMET120_PFMHT120_IDTight_v20</td>\n",
       "      <td>2.346887</td>\n",
       "    </tr>\n",
       "  </tbody>\n",
       "</table>\n",
       "</div>"
      ],
      "text/plain": [
       "                                               index  Total Rate (Hz)\n",
       "0                          HLT_Ele32_WPTight_Gsf_v15         3.506159\n",
       "1                           HLT_Ele35_WPTight_Gsf_v9         3.721402\n",
       "2                    HLT_Ele35_WPTight_Gsf_L1EGMT_v5         3.847972\n",
       "3                           HLT_Ele38_WPTight_Gsf_v9         4.092567\n",
       "4  HLT_Ele30_eta2p1_WPTight_Gsf_CentralPFJet35_El...         2.853144\n",
       "5                                    HLT_Photon33_v5              NaN\n",
       "6                  HLT_PFMET120_PFMHT120_IDTight_v20         2.346887"
      ]
     },
     "execution_count": 6,
     "metadata": {},
     "output_type": "execute_result"
    }
   ],
   "source": [
    "import pandas as pd\n",
    "import matplotlib.pyplot as plt\n",
    "df4 = pd.read_csv ('outputRun2hlt.csv')#hlt\n",
    "df5 = pd.read_csv ('output_Ped_319111.csv')#54iov\n",
    "df6 = pd.read_csv ('output_Ped_345902.csv') #246iov\n",
    "df_perfill = pd.DataFrame()\n",
    "df_weekly = pd.DataFrame()\n",
    "#df['Path'] = df3['Path (w/ version number)']\n",
    "df4.set_index('Path (w/ version number)', inplace=True)\n",
    "df5.set_index('Path (w/ version number)', inplace=True)\n",
    "df6.set_index('Path (w/ version number)', inplace=True)\n",
    "\n",
    "df1 = df4.loc[['HLT_Ele32_WPTight_Gsf_v15','HLT_Ele35_WPTight_Gsf_v9','HLT_Ele35_WPTight_Gsf_L1EGMT_v5','HLT_Ele38_WPTight_Gsf_v9','HLT_Ele30_eta2p1_WPTight_Gsf_CentralPFJet35_EleCleaned_v13','HLT_Photon33_v5','HLT_PFMET120_PFMHT120_IDTight_v20']]\n",
    "df2 = df5.loc[['HLT_Ele32_WPTight_Gsf_v15','HLT_Ele35_WPTight_Gsf_v9','HLT_Ele35_WPTight_Gsf_L1EGMT_v5','HLT_Ele38_WPTight_Gsf_v9','HLT_Ele30_eta2p1_WPTight_Gsf_CentralPFJet35_EleCleaned_v13','HLT_Photon33_v5','HLT_PFMET120_PFMHT120_IDTight_v20']]\n",
    "df3 = df6.loc[['HLT_Ele32_WPTight_Gsf_v15','HLT_Ele35_WPTight_Gsf_v9','HLT_Ele35_WPTight_Gsf_L1EGMT_v5','HLT_Ele38_WPTight_Gsf_v9','HLT_Ele30_eta2p1_WPTight_Gsf_CentralPFJet35_EleCleaned_v13','HLT_Photon33_v5','HLT_PFMET120_PFMHT120_IDTight_v20']]\n",
    "\n",
    "#df1 = df3.loc['HLT_Ele32_WPTight_Gsf_v15',:]\n",
    "df_perfill['Total Rate (Hz)'] = df3['  Total Rate (Hz)']/df2['  Total Rate (Hz)']\n",
    "#df_weekly['Total Rate (Hz)'] = df2['  Total Rate (Hz)']/df1['  Total Rate (Hz)']\n",
    "#df['R(Pure Rate (Hz))'] = df1['Pure Rate (Hz)']/df2['Pure Rate (Hz)']\n",
    "#df['R(propotional0)'] = df1['propotional0']/df2['propotional0']\n",
    "#df.dropna(inplace=True)\n",
    "#df0 = df[df['Total Rate (Hz)']!= 1]\n",
    "df_perfill = df_perfill.reset_index()\n",
    "df_weekly = df_weekly.reset_index()\n",
    "df_perfill\n",
    "#print(df3.head)"
   ]
  },
  {
   "cell_type": "code",
   "execution_count": 7,
   "metadata": {},
   "outputs": [
    {
     "data": {
      "image/png": "[encoded data removed]",
      "text/plain": [
       "<Figure size 720x288 with 1 Axes>"
      ]
     },
     "metadata": {
      "needs_background": "light"
     },
     "output_type": "display_data"
    }
   ],
   "source": [
    "fig, ax = plt.subplots(figsize=(10,4))\n",
    "ax.scatter(df_perfill[\"Total Rate (Hz)\"],df_perfill[\"index\"],marker=\"o\",color=\"red\", alpha=0.5)\n",
    "#ax.scatter(df_weekly[\"Total Rate (Hz)\"],df_weekly[\"index\"],marker=\"+\",color=\"blue\", alpha=0.5)\n",
    "ax.set_xlabel('Ratio', fontsize=15)\n",
    "ax.set_ylabel('Tag name', fontsize=15)\n",
    "ax.set_title('HLT Path Ratio')\n",
    "ax.legend(['Laser_345982/Laser_345925'])\n",
    "ax.grid(True)\n",
    "fig.tight_layout()\n",
    "\n",
    "plt.show()"
   ]
  },
  {
   "cell_type": "code",
   "execution_count": null,
   "metadata": {},
   "outputs": [],
   "source": []
  }
 ],
 "metadata": {
  "kernelspec": {
   "display_name": "Python 3",
   "language": "python",
   "name": "python3"
  },
  "language_info": {
   "codemirror_mode": {
    "name": "ipython",
    "version": 3
   },
   "file_extension": ".py",
   "mimetype": "text/x-python",
   "name": "python",
   "nbconvert_exporter": "python",
   "pygments_lexer": "ipython3",
   "version": "3.8.5"
  }
 },
 "nbformat": 4,
 "nbformat_minor": 4
}
